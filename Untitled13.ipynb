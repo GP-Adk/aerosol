{
 "cells": [
  {
   "cell_type": "code",
   "execution_count": null,
   "metadata": {},
   "outputs": [],
   "source": [
    "import pandas as pd\n",
    "import numpy as np\n",
    "\n",
    "df = pd.read_csv('bidur08.csv')\n",
    "a = 0.002895704\n",
    "c = -3.9409488\n",
    "#df['alpha'] = df['RATE'] * df['DEATHS']\n",
    "df['Exponent alpha'] = ((-np.log(df['AOD_500nm']/df['AOD_440nm']))/(np.log(0.500/0.440)))\n",
    "df['beta'] = np.exp(np.log(df['AOD_500nm'])+df['Exponent alpha']*np.log(0.500))\n",
    "df['Turbidity Coefficient beta'] = df['AOD_500nm']*np.power(0.500,df['Exponent alpha'])\n",
    "b = (df['Turbidity Coefficient beta']/np.power(0.55, df['Exponent alpha']))-0.08578106\n",
    "d = (b**2) - (4*a*c)\n",
    "df['Visibility'] = (-b+np.sqrt(d))/(2*a)\n",
    "b = 0\n",
    "d = 0\n",
    "\n",
    "df.to_csv('bidur08_new3.csv')"
   ]
  },
  {
   "cell_type": "code",
   "execution_count": null,
   "metadata": {},
   "outputs": [],
   "source": [
    "import pandas as pd\n",
    "import numpy as np\n",
    "\n",
    "df = pd.read_csv('bidur04.csv')\n",
    "a = 0.002895704\n",
    "c = -3.9409488\n",
    "\n",
    "df['Exponent alpha'] = ((-np.log(df['AOD_500nm']/df['AOD_440nm']))/(np.log(0.500/0.440)))\n",
    "df['beta'] = np.exp(np.log(df['AOD_500nm'])+df['Exponent alpha']*np.log(0.500))\n",
    "df['Turbidity Coefficient beta'] = df['AOD_500nm']*np.power(0.500,df['Exponent alpha'])\n",
    "b = (df['Turbidity Coefficient beta']/np.power(0.55, df['Exponent alpha']))-0.08578106\n",
    "d = (b**2) - (4*a*c)\n",
    "df['Visibility'] = (-b+np.sqrt(d))/(2*a)\n",
    "b = 0\n",
    "d = 0\n",
    "   \n",
    "df.to_csv('bidur04_new3.csv')"
   ]
  },
  {
   "cell_type": "code",
   "execution_count": null,
   "metadata": {},
   "outputs": [],
   "source": [
    "import pandas as pd\n",
    "import numpy as np\n",
    "\n",
    "df = pd.read_csv('bidur04.csv')\n",
    "a = 0.002895704\n",
    "c = -3.9409488\n",
    "\n",
    "df['Exponent alpha'] = ((-np.log(df['AOD_500nm']/df['AOD_440nm']))/(np.log(0.500/0.440)))\n",
    "df['beta'] = np.exp(np.log(df['AOD_500nm'])+df['Exponent alpha']*np.log(0.500))\n",
    "df['Turbidity Coefficient beta'] = df['AOD_500nm']*np.power(0.500,df['Exponent alpha'])\n",
    "b = (df['Turbidity Coefficient beta']/np.power(0.55, df['Exponent alpha']))-0.08578106\n",
    "d = (b**2) - (4*a*c)\n",
    "df['Visibility'] = (-b+np.sqrt(d))/(2*a)\n",
    "b = 0\n",
    "d = 0\n",
    "   \n",
    "df.to_csv('bidur04_new3.csv')"
   ]
  },
  {
   "cell_type": "code",
   "execution_count": null,
   "metadata": {},
   "outputs": [],
   "source": []
  },
  {
   "cell_type": "code",
   "execution_count": null,
   "metadata": {},
   "outputs": [],
   "source": []
  },
  {
   "cell_type": "code",
   "execution_count": null,
   "metadata": {},
   "outputs": [],
   "source": [
    "import plotly.graph_objects as go\n",
    "import pandas as pd\n",
    "\n",
    "fd = pd.read_csv('bidur04.csv')\n",
    "fig = go.Figure()\n",
    "fig.add_trace(go.Scatter(x = fd['Date(dd:mm:yyyy)'], y = fd['AOD_1640nm'], mode = 'lines', name = 'AOD_1640nm'))\n",
    "fig.add_trace(go.Scatter(x = fd['Date(dd:mm:yyyy)'], y = fd['AOD_1020nm'], mode = 'lines', name = 'AOD_1020nm'))\n",
    "fig.add_trace(go.Scatter(x = fd['Date(dd:mm:yyyy)'], y = fd['AOD_870nm'], mode = 'lines', name = 'AOD_870nm'))\n",
    "fig.add_trace(go.Scatter(x = fd['Date(dd:mm:yyyy)'], y = fd['AOD_675nm'], mode = 'lines', name = 'AOD_675nm'))\n",
    "fig.add_trace(go.Scatter(x = fd['Date(dd:mm:yyyy)'], y = fd['AOD_500nm'], mode = 'lines', name = 'AOD_500nm'))\n",
    "fig.add_trace(go.Scatter(x = fd['Date(dd:mm:yyyy)'], y = fd['AOD_440nm'], mode = 'lines', name = 'AOD_440nm'))\n",
    "fig.add_trace(go.Scatter(x = fd['Date(dd:mm:yyyy)'], y = fd['AOD_380nm'], mode = 'lines', name = 'AOD_380nm'))\n",
    "fig.add_trace(go.Scatter(x = fd['Date(dd:mm:yyyy)'], y = fd['AOD_340nm'], mode = 'lines', name = 'AOD_340nm'))\n",
    "fig.update_layout\n",
    "le='AOD Variation of Bidur in April of 2020',plot_bgcolor='rgb(230, 230,230)',showlegend=True, xaxis_title='Date', yaxis_title='AOD')\n",
    "fig.show()"
   ]
  },
  {
   "cell_type": "code",
   "execution_count": null,
   "metadata": {},
   "outputs": [],
   "source": [
    "import plotly.graph_objects as go\n",
    "import pandas as pd\n",
    "\n",
    "fd = pd.read_csv('bidur04_new3.csv')\n",
    "fig = go.Figure()\n",
    "fig.add_trace(go.Scatter(x = fd['Date(dd:mm:yyyy)'], y = fd['Visibility'], mode = 'lines', name = 'Visibility'))\n",
    "fig.update_layout(title='Visibility variation of Bidur in April of 2020',plot_bgcolor='rgb(230, 230,230)',showlegend=True, xaxis_title='Date(dd:mm:yyyy)', yaxis_title='Visibility in Km')\n",
    "fig.show()"
   ]
  },
  {
   "cell_type": "code",
   "execution_count": null,
   "metadata": {},
   "outputs": [],
   "source": []
  },
  {
   "cell_type": "code",
   "execution_count": null,
   "metadata": {},
   "outputs": [],
   "source": []
  },
  {
   "cell_type": "code",
   "execution_count": null,
   "metadata": {},
   "outputs": [],
   "source": []
  },
  {
   "cell_type": "code",
   "execution_count": null,
   "metadata": {},
   "outputs": [],
   "source": [
    "import plotly.graph_objects as go\n",
    "import pandas as pd\n",
    "\n",
    "fd = pd.read_csv('bidur03_new3.csv')\n",
    "fig = go.Figure()\n",
    "fig.add_trace(go.Scatter(x = fd['Date(dd:mm:yyyy)'], y = fd['Turbidity Coefficient beta'], mode = 'lines', name = 'Turbidity Coefficient beta'))\n",
    "fig.update_layout(title='Turbidity coefficient (beta) variation of Bidur in March of 2020',plot_bgcolor='rgb(230, 230,230)',showlegend=True, xaxis_title='Date(dd:mm:yyyy)', yaxis_title='Turbidity Coefficient (beta)')\n",
    "fig.show()"
   ]
  },
  {
   "cell_type": "code",
   "execution_count": null,
   "metadata": {},
   "outputs": [],
   "source": []
  },
  {
   "cell_type": "code",
   "execution_count": null,
   "metadata": {},
   "outputs": [],
   "source": [
    "import plotly.graph_objects as go\n",
    "import pandas as pd\n",
    "\n",
    "fd = pd.read_csv('bidur04_new3.csv')\n",
    "fig = go.Figure()\n",
    "fig.add_trace(go.Scatter(x = fd['Date(dd:mm:yyyy)'], y = fd['Exponent alpha'], mode = 'lines', name = 'Wavelength Exponent alpha'))\n",
    "fig.update_layout(title='Wavelength Exponent variation of Bidur in April of 2020',plot_bgcolor='rgb(230, 230,230)',showlegend=True, xaxis_title='Date(dd:mm:yyyy)', yaxis_title='Wavelength Exponent alpha')\n",
    "fig.show()"
   ]
  }
 ],
 "metadata": {
  "kernelspec": {
   "display_name": "Python 3",
   "language": "python",
   "name": "python3"
  },
  "language_info": {
   "codemirror_mode": {
    "name": "ipython",
    "version": 3
   },
   "file_extension": ".py",
   "mimetype": "text/x-python",
   "name": "python",
   "nbconvert_exporter": "python",
   "pygments_lexer": "ipython3",
   "version": "3.7.4"
  }
 },
 "nbformat": 4,
 "nbformat_minor": 2
}
